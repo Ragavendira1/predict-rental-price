{
 "cells": [
  {
   "cell_type": "code",
   "execution_count": 73,
   "id": "f6e31b7c-721a-4a7f-82f7-a3e322955eb0",
   "metadata": {},
   "outputs": [],
   "source": [
    "import pandas as pd\n",
    "import numpy as np\n",
    "from sklearn.linear_model import LinearRegression\n",
    "from sklearn.model_selection import train_test_split\n",
    "#from sklearn.linear_model import LinerRegression\n",
    "#from sklearn.model_selection import train_test_split\n",
    "#from sklearn.model_selection import train_test_split"
   ]
  },
  {
   "cell_type": "code",
   "execution_count": 74,
   "id": "0a764862-d6a5-41ca-ae1b-93975a2a212c",
   "metadata": {},
   "outputs": [],
   "source": [
    "rentalDF = pd.read_csv('data/rental_1000.csv')"
   ]
  },
  {
   "cell_type": "code",
   "execution_count": 75,
   "id": "57b5d061",
   "metadata": {},
   "outputs": [
    {
     "data": {
      "text/html": [
       "<div>\n",
       "<style scoped>\n",
       "    .dataframe tbody tr th:only-of-type {\n",
       "        vertical-align: middle;\n",
       "    }\n",
       "\n",
       "    .dataframe tbody tr th {\n",
       "        vertical-align: top;\n",
       "    }\n",
       "\n",
       "    .dataframe thead th {\n",
       "        text-align: right;\n",
       "    }\n",
       "</style>\n",
       "<table border=\"1\" class=\"dataframe\">\n",
       "  <thead>\n",
       "    <tr style=\"text-align: right;\">\n",
       "      <th></th>\n",
       "      <th>rooms</th>\n",
       "      <th>sqft</th>\n",
       "      <th>price</th>\n",
       "    </tr>\n",
       "  </thead>\n",
       "  <tbody>\n",
       "    <tr>\n",
       "      <th>0</th>\n",
       "      <td>4</td>\n",
       "      <td>1334</td>\n",
       "      <td>69702</td>\n",
       "    </tr>\n",
       "    <tr>\n",
       "      <th>1</th>\n",
       "      <td>5</td>\n",
       "      <td>1725</td>\n",
       "      <td>86083</td>\n",
       "    </tr>\n",
       "    <tr>\n",
       "      <th>2</th>\n",
       "      <td>1</td>\n",
       "      <td>1058</td>\n",
       "      <td>53492</td>\n",
       "    </tr>\n",
       "    <tr>\n",
       "      <th>3</th>\n",
       "      <td>2</td>\n",
       "      <td>2117</td>\n",
       "      <td>106500</td>\n",
       "    </tr>\n",
       "    <tr>\n",
       "      <th>4</th>\n",
       "      <td>2</td>\n",
       "      <td>2225</td>\n",
       "      <td>110860</td>\n",
       "    </tr>\n",
       "    <tr>\n",
       "      <th>...</th>\n",
       "      <td>...</td>\n",
       "      <td>...</td>\n",
       "      <td>...</td>\n",
       "    </tr>\n",
       "    <tr>\n",
       "      <th>995</th>\n",
       "      <td>2</td>\n",
       "      <td>724</td>\n",
       "      <td>36981</td>\n",
       "    </tr>\n",
       "    <tr>\n",
       "      <th>996</th>\n",
       "      <td>2</td>\n",
       "      <td>2305</td>\n",
       "      <td>114239</td>\n",
       "    </tr>\n",
       "    <tr>\n",
       "      <th>997</th>\n",
       "      <td>4</td>\n",
       "      <td>1782</td>\n",
       "      <td>88291</td>\n",
       "    </tr>\n",
       "    <tr>\n",
       "      <th>998</th>\n",
       "      <td>2</td>\n",
       "      <td>1449</td>\n",
       "      <td>75552</td>\n",
       "    </tr>\n",
       "    <tr>\n",
       "      <th>999</th>\n",
       "      <td>2</td>\n",
       "      <td>1190</td>\n",
       "      <td>60859</td>\n",
       "    </tr>\n",
       "  </tbody>\n",
       "</table>\n",
       "<p>1000 rows × 3 columns</p>\n",
       "</div>"
      ],
      "text/plain": [
       "     rooms  sqft   price\n",
       "0        4  1334   69702\n",
       "1        5  1725   86083\n",
       "2        1  1058   53492\n",
       "3        2  2117  106500\n",
       "4        2  2225  110860\n",
       "..     ...   ...     ...\n",
       "995      2   724   36981\n",
       "996      2  2305  114239\n",
       "997      4  1782   88291\n",
       "998      2  1449   75552\n",
       "999      2  1190   60859\n",
       "\n",
       "[1000 rows x 3 columns]"
      ]
     },
     "execution_count": 75,
     "metadata": {},
     "output_type": "execute_result"
    }
   ],
   "source": [
    "rentalDF"
   ]
  },
  {
   "cell_type": "markdown",
   "id": "9e0184c1",
   "metadata": {},
   "source": [
    "# Features and Labels\n",
    "- rooms\n",
    "- sqft\n",
    "\n",
    "# Labels\n",
    "- price\n"
   ]
  },
  {
   "cell_type": "code",
   "execution_count": 76,
   "id": "765d7006",
   "metadata": {},
   "outputs": [],
   "source": [
    "#import numpy as np\n",
    "#from sklearn.linear_model import LinearRegression\n",
    "#from sklearn.model_selection import train_test_split\n",
    "X = rentalDF[['rooms','sqft']].values # Features\n",
    "y = rentalDF['price'].values   # Labels\n",
    "X_train, X_test, y_train, y_test = train_test_split(X,y,test_size=0.20)"
   ]
  },
  {
   "cell_type": "markdown",
   "id": "728361c3",
   "metadata": {},
   "source": [
    "# Model Training\n",
    "\n"
   ]
  },
  {
   "cell_type": "code",
   "execution_count": 77,
   "id": "233d93b3",
   "metadata": {},
   "outputs": [],
   "source": [
    "model = LinearRegression().fit(X,y)"
   ]
  },
  {
   "cell_type": "code",
   "execution_count": 78,
   "id": "6a02165b",
   "metadata": {},
   "outputs": [
    {
     "name": "stdout",
     "output_type": "stream",
     "text": [
      "[  2 886]\n"
     ]
    }
   ],
   "source": [
    "print(X_test[0])\n",
    "#X_test[0]"
   ]
  },
  {
   "cell_type": "markdown",
   "id": "152b95ea",
   "metadata": {},
   "source": [
    "# Model Prediction"
   ]
  },
  {
   "cell_type": "code",
   "execution_count": 79,
   "id": "99ce92c4",
   "metadata": {},
   "outputs": [
    {
     "data": {
      "text/plain": [
       "np.float64(45479.43466826961)"
      ]
     },
     "execution_count": 79,
     "metadata": {},
     "output_type": "execute_result"
    }
   ],
   "source": [
    "model.predict(X_test[0].reshape(1,-1))[0]"
   ]
  },
  {
   "cell_type": "code",
   "execution_count": 80,
   "id": "f95ef039",
   "metadata": {},
   "outputs": [],
   "source": [
    "predict_rental_price = model.predict(X_test[0].reshape(1,-1))[0]"
   ]
  },
  {
   "cell_type": "code",
   "execution_count": 81,
   "id": "153442d3",
   "metadata": {},
   "outputs": [
    {
     "name": "stdout",
     "output_type": "stream",
     "text": [
      "The Actual Rental Price for Rooms with count =  2 and Area in Sqft =  886 is = 46863\n"
     ]
    }
   ],
   "source": [
    "print(\"The Actual Rental Price for Rooms with count = \",X_test[0][0],\"and\",\"Area in Sqft = \",X_test[0][1],\"is =\",y_test[0])"
   ]
  },
  {
   "cell_type": "code",
   "execution_count": 82,
   "id": "99e0cf20",
   "metadata": {},
   "outputs": [
    {
     "name": "stdout",
     "output_type": "stream",
     "text": [
      "The Actual Rental Price for Rooms with count =  2 and Area in Sqft =  886 is = 46863\n",
      "The Predicated Rental Price for Rooms with count =  2 and Area in Sqft =  886 is = 45479.43466826961\n"
     ]
    }
   ],
   "source": [
    "print(\"The Actual Rental Price for Rooms with count = \",X_test[0][0],\"and\",\"Area in Sqft = \",X_test[0][1],\"is =\",y_test[0])\n",
    "print(\"The Predicated Rental Price for Rooms with count = \",X_test[0][0],\"and\",\"Area in Sqft = \",X_test[0][1],\"is =\",predict_rental_price)"
   ]
  },
  {
   "cell_type": "markdown",
   "id": "4945d4ca",
   "metadata": {},
   "source": []
  }
 ],
 "metadata": {
  "kernelspec": {
   "display_name": "Python 3 (ipykernel)",
   "language": "python",
   "name": "python3"
  }
 },
 "nbformat": 4,
 "nbformat_minor": 5
}
