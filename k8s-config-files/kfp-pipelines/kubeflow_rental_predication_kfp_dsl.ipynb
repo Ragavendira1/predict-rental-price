{
 "cells": [
  {
   "cell_type": "code",
   "execution_count": 5,
   "id": "a5074579-f322-4f2e-bf99-4cbeb95792fc",
   "metadata": {},
   "outputs": [],
   "source": [
    "from kfp import dsl\n",
    "from kfp import compiler"
   ]
  },
  {
   "cell_type": "code",
   "execution_count": 17,
   "id": "40f58857-ba59-47e6-90fa-b98fc112bbf1",
   "metadata": {},
   "outputs": [],
   "source": [
    "@dsl.component(packages_to_install=['numpy','pandas','joblib','scikit-learn','flask'])\n",
    "def modeldevelopment(rooms: int,sqft: float) -> float:\n",
    "    #Importing all required libraries\n",
    "    import pandas as pd\n",
    "    import numpy as np\n",
    "    import joblib\n",
    "    from flask import Flask, render_template, request \n",
    "    from sklearn.linear_model import LinearRegression\n",
    "    from sklearn.model_selection import train_test_split\n",
    "    from sklearn.metrics import mean_squared_error\n",
    "    \n",
    "    \n",
    "    # Data Processing\n",
    "    # Load and Process the Data \n",
    "    #rentalDF = pd.read_csv('data/rental_1000.csv')\n",
    "    rentalDF = pd.read_csv('https://raw.githubusercontent.com/Ragavendira1/predict-rental-price/d1ff8b034e32baf4ef77cbd9752f346e258f61c0/data/rental_1000.csv')\n",
    "    # Data Transformation(Featurization  - Use Features for Model Development)\n",
    "    X = rentalDF[['rooms','sqft']].values # Features\n",
    "    y = rentalDF['price'].values          # Labels\n",
    "    \n",
    "    # Split Data into Training and Testing \n",
    "    X_train, X_test, y_train, y_test = train_test_split(X,y,test_size=0.20)\n",
    "    \n",
    "    # Model Training\n",
    "    model = LinearRegression().fit(X_train,y_train)\n",
    "\n",
    "    #sample_index = 0 # change ths index to test different samples\n",
    "    #predict_rental_price = model.predict([X_test[sample_index]])[0]\n",
    "    #print(f\"The Actual Rental Price for Rooms with count = {X_test[sample_index][0]} and Area in Sqft ={X_test[sample_index][1]} is={y_test[sample_index]}\")\n",
    "    #print(f\"The Predicated Rental Price for Rooms with count = {X_test[sample_index][0]} and Area in Sqft = {X_test[sample_index][1]} is={predict_rental_price}\")\n",
    "    #return (predict_rental_price)\n",
    "       \n",
    "    predict_rental_price = model.predict(np.array([[rooms,sqft]]))[0]\n",
    "    print(f\"The Predicated Rental Price for Rooms is={predict_rental_price}\")\n",
    "    \n",
    "    return (predict_rental_price)\n",
    "\n",
    "    # Save the Model\n",
    "    #joblib.dump(model,'rental_price_model.joblib')\n",
    " \n",
    "    #Load the Model\n",
    "    #model = joblib.load('rental_price_model.joblib')\n",
    "    \n",
    "    # initialize Flask Application\n",
    "    #app = Flask(__name__)\n",
    "    \n",
    "    #@app.route('/')\n",
    "    #def home():\n",
    "        #return render_template('index.html')\n",
    "    \n",
    "    #@app.route('/predict',methods=['POST'])\n",
    "    #def predict():\n",
    "        #rooms = int(request.form['rooms'])\n",
    "        #sqft = int(request.form['sqft'])\n",
    "    \n",
    "        #Make the Prediction\n",
    "        #prediction = model.predict(np.array([[rooms,sqft]]))\n",
    "        #return render_template('result.html',prediction=prediction[0])\n",
    "\n",
    "    if __name__ == \"__main__\":\n",
    "        app.run(debug=True,host=\"0.0.0.0\")    \n",
    "    # Example Prediction for a specific test sample\n",
    "    "
   ]
  },
  {
   "cell_type": "code",
   "execution_count": 18,
   "id": "c77cca12-064b-4282-a44e-9ff15e4c9f63",
   "metadata": {
    "scrolled": true
   },
   "outputs": [],
   "source": [
    "@dsl.pipeline\n",
    "def rental_prediction_pipeline(rooms_count: int, area_in_sqft: float) -> float:\n",
    "    task = modeldevelopment(rooms=rooms_count,sqft=area_in_sqft)\n",
    "    return task.output\n",
    "    "
   ]
  },
  {
   "cell_type": "code",
   "execution_count": 19,
   "id": "e76ce10d-475b-4b48-8c76-d9eb4b31dc5d",
   "metadata": {},
   "outputs": [],
   "source": [
    "from kfp import compiler\n",
    "compiler.Compiler().compile(rental_prediction_pipeline,'rental_prediction.yaml') "
   ]
  },
  {
   "cell_type": "code",
   "execution_count": null,
   "id": "f9031a6c-9c78-478d-8891-742fdd2580dc",
   "metadata": {},
   "outputs": [],
   "source": []
  }
 ],
 "metadata": {
  "kernelspec": {
   "display_name": "Python 3 (ipykernel)",
   "language": "python",
   "name": "python3"
  },
  "language_info": {
   "codemirror_mode": {
    "name": "ipython",
    "version": 3
   },
   "file_extension": ".py",
   "mimetype": "text/x-python",
   "name": "python",
   "nbconvert_exporter": "python",
   "pygments_lexer": "ipython3",
   "version": "3.12.5"
  }
 },
 "nbformat": 4,
 "nbformat_minor": 5
}
