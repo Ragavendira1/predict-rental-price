{
 "cells": [
  {
   "cell_type": "code",
   "execution_count": 23,
   "id": "36b8f4d1-f2fa-4953-9c0d-22715836ae42",
   "metadata": {
    "scrolled": true
   },
   "outputs": [],
   "source": [
    "from kfp import dsl\n",
    "\n",
    "@dsl.component\n",
    "def f1(a: int, b: int) -> int:\n",
    "    return a + b\n",
    "@dsl.component\n",
    "def f2(a: int, b:int) -> int:\n",
    "    return a - b\n",
    "@dsl.component\n",
    "def f3(a: int, b:int) -> int:\n",
    "    return a * b"
   ]
  },
  {
   "cell_type": "code",
   "execution_count": 27,
   "id": "db7697c1-1f7b-4105-a43d-7dfb94cd20e0",
   "metadata": {},
   "outputs": [],
   "source": [
    "@dsl.pipeline\n",
    "def numpipeline(a: int, b: int) -> int:\n",
    "    task1 = f1(a=a,b=b)\n",
    "    task2 = f2(a=a,b=b)\n",
    "    #return task1.output   \n",
    "    #return task2.output\n",
    "    task3= f3(a=task1.output,b=task2.output)\n",
    "    return task3.output\n",
    "    #return task3.output\n",
    "    # return task2.output\n",
    "    # return f3(task1.output, task2.output)"
   ]
  },
  {
   "cell_type": "code",
   "execution_count": 29,
   "id": "c9b40a25-416d-4d0a-86cb-ee8131135bff",
   "metadata": {},
   "outputs": [],
   "source": [
    "from kfp import compiler\n",
    "compiler.Compiler().compile(numpipeline,'numpipeline.yaml')"
   ]
  },
  {
   "cell_type": "code",
   "execution_count": null,
   "id": "c411564a-bbce-47a4-9c29-b0c7cce33a45",
   "metadata": {},
   "outputs": [],
   "source": []
  },
  {
   "cell_type": "code",
   "execution_count": null,
   "id": "08fcbfb9-72d6-4807-8090-db1068bf1028",
   "metadata": {},
   "outputs": [],
   "source": []
  }
 ],
 "metadata": {
  "kernelspec": {
   "display_name": "Python 3 (ipykernel)",
   "language": "python",
   "name": "python3"
  },
  "language_info": {
   "codemirror_mode": {
    "name": "ipython",
    "version": 3
   },
   "file_extension": ".py",
   "mimetype": "text/x-python",
   "name": "python",
   "nbconvert_exporter": "python",
   "pygments_lexer": "ipython3",
   "version": "3.12.5"
  }
 },
 "nbformat": 4,
 "nbformat_minor": 5
}
