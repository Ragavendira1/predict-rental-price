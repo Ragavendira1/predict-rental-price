{
 "cells": [
  {
   "cell_type": "code",
   "execution_count": 8,
   "id": "cf67ae9f-18c5-4b4f-96fe-0bd996053e1e",
   "metadata": {},
   "outputs": [],
   "source": [
    "def f1(a,b):\n",
    "    return a+b\n",
    "def f2(a,b):\n",
    "    return a-b\n",
    "def f3(a,b):\n",
    "    return (a*b)"
   ]
  },
  {
   "cell_type": "code",
   "execution_count": 9,
   "id": "296e8f58-a6e7-443f-abff-0eeffb00e7df",
   "metadata": {},
   "outputs": [
    {
     "name": "stdout",
     "output_type": "stream",
     "text": [
      "the sum of the two value: 0\n"
     ]
    }
   ],
   "source": [
    "print(\"the sum of the two value:\", f1(100,-100))"
   ]
  },
  {
   "cell_type": "code",
   "execution_count": 10,
   "id": "bbf125ba-ab2a-4fda-a7a1-aaf5ce61add4",
   "metadata": {},
   "outputs": [
    {
     "name": "stdout",
     "output_type": "stream",
     "text": [
      "the sum of the two valude: 200\n"
     ]
    }
   ],
   "source": [
    "print(\"the sum of the two valude:\", f2(100,-100))"
   ]
  },
  {
   "cell_type": "code",
   "execution_count": 11,
   "id": "0feceec6-f1a4-4990-9cee-1eca739c52d1",
   "metadata": {},
   "outputs": [],
   "source": [
    "output = f3(f1(100,-100),f2(100,-100))"
   ]
  },
  {
   "cell_type": "code",
   "execution_count": 12,
   "id": "af1bcd4b-4330-4256-9616-0a6fdd3cc4ce",
   "metadata": {},
   "outputs": [
    {
     "name": "stdout",
     "output_type": "stream",
     "text": [
      "The output: 0\n"
     ]
    }
   ],
   "source": [
    "print (\"The output:\", output)"
   ]
  },
  {
   "cell_type": "code",
   "execution_count": null,
   "id": "b1e0cc85-9537-439e-b22f-c3c7bf0aac8b",
   "metadata": {},
   "outputs": [],
   "source": []
  }
 ],
 "metadata": {
  "kernelspec": {
   "display_name": "Python 3 (ipykernel)",
   "language": "python",
   "name": "python3"
  },
  "language_info": {
   "codemirror_mode": {
    "name": "ipython",
    "version": 3
   },
   "file_extension": ".py",
   "mimetype": "text/x-python",
   "name": "python",
   "nbconvert_exporter": "python",
   "pygments_lexer": "ipython3",
   "version": "3.12.5"
  }
 },
 "nbformat": 4,
 "nbformat_minor": 5
}
